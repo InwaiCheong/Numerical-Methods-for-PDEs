{
 "cells": [
  {
   "cell_type": "code",
   "execution_count": 3,
   "metadata": {},
   "outputs": [],
   "source": [
    "%matplotlib inline\n",
    "%precision 16\n",
    "from __future__ import print_function\n",
    "from six.moves import range\n",
    "import numpy\n",
    "import matplotlib.pyplot as plt\n",
    "import scipy.sparse as sparse\n",
    "import scipy.linalg\n",
    "import scipy.sparse.linalg as linalg"
   ]
  },
  {
   "cell_type": "markdown",
   "metadata": {
    "deletable": false,
    "editable": false,
    "nbgrader": {
     "cell_type": "markdown",
     "checksum": "453e56947879b723a0b2f767f03b9d8b",
     "grade": false,
     "grade_id": "cell-3568728635947986",
     "locked": true,
     "schema_version": 3,
     "solution": false
    }
   },
   "source": [
    "Before you turn this problem in, make sure everything runs as expected. First, restart the kernel (in the menubar, select Kernel $\\rightarrow$ Restart) and then run all cells (in the menubar, select Cell $\\rightarrow$ Run All).\n",
    "\n",
    "Make sure you fill in any place that says YOUR CODE HERE or \"YOUR ANSWER HERE\", as well as your name and collaborators below:"
   ]
  },
  {
   "cell_type": "markdown",
   "metadata": {
    "deletable": false,
    "editable": false,
    "nbgrader": {
     "cell_type": "markdown",
     "checksum": "6d12be1905ddefb76f771b57ceb17c6f",
     "grade": false,
     "grade_id": "cell-4498557659154907",
     "locked": true,
     "schema_version": 3,
     "solution": false
    }
   },
   "source": [
    "# HW 5: Parabolic Problems"
   ]
  },
  {
   "cell_type": "markdown",
   "metadata": {
    "deletable": false,
    "editable": false,
    "nbgrader": {
     "cell_type": "markdown",
     "checksum": "4c33b0d35031e585de83e84a55249d6d",
     "grade": false,
     "grade_id": "cell-4602958060027156",
     "locked": true,
     "schema_version": 3,
     "solution": false
    }
   },
   "source": [
    "# Question 1 - Parabolic + Periodic BCs\n",
    "\n",
    "Consider the temperature distribution in a thin circular ring with perimeter $2L$. Assume that the lateral surfaces are perfectly insulated, such that the temperature is distributed evenly throughout the ring cross-section and that the ends at $x=-L$ and $x=L$ are in perfect thermal contact.\n",
    "\n",
    "This mathematical problem can be formulated as a heat equation with factor $k \\in \\mathbb R$ and periodic boundary conditions.\n",
    "$$\n",
    "    \\frac{\\partial u}{\\partial t} = k \\ \\frac{\\partial^2 u}{\\partial x^2} \\qquad \\mbox{on } [-L,L]\\times \\mathbb R_+\\\\\n",
    "    u(x,0) = u_0(x) ~~~~~~ u(-L,t) = u(L,t) ~~~~~ \\frac{\\partial}{\\partial x} u(-L,t) = \\frac{\\partial}{\\partial x} u(L,t).\n",
    "$$"
   ]
  },
  {
   "cell_type": "markdown",
   "metadata": {
    "deletable": false,
    "editable": false,
    "nbgrader": {
     "cell_type": "markdown",
     "checksum": "15029e50cab9145cb9baf03de6389ae8",
     "grade": false,
     "grade_id": "cell-3546325261803724",
     "locked": true,
     "schema_version": 3,
     "solution": false
    }
   },
   "source": [
    "**(a)** [10] Solve the problem analytically."
   ]
  },
  {
   "cell_type": "markdown",
   "metadata": {
    "deletable": false,
    "nbgrader": {
     "cell_type": "markdown",
     "checksum": "78f19f067a8f2ebe235d53daa249713c",
     "grade": true,
     "grade_id": "cell-3691704103064185",
     "locked": false,
     "points": 10,
     "schema_version": 3,
     "solution": true
    }
   },
   "source": [
    "### Solution:\n",
    "\n",
    "Using separation of variables, let $u(x,t) = \\phi(x)G(t)$. Substituting $u(x,t)$ gives us two separate ODEs:\n",
    "\n",
    "$$\n",
    "\\frac{dG}{dt} = -\\lambda kG \\\\\n",
    "\\frac{d^2\\phi}{dx^2} = -\\lambda \\phi\n",
    "$$\n",
    "\n",
    "where $\\lambda$ is the separation constant. Solving the time ODE:\n",
    "\n",
    "$$\n",
    "\\frac{dG}{dt} = \\lambda kG \\\\\n",
    "\\implies \\frac{1}{G}\\frac{dG}{dt} = -\\lambda k \\\\\n",
    "\\implies ln(G) = -\\lambda kt + c \\\\\n",
    "\\implies G(t) = ce^{-\\lambda kt}\n",
    "$$\n",
    "\n",
    "Now solving $\\frac{d^2\\phi}{dx^2} = -\\lambda \\phi$ with the specified boundary conditions with $\\lambda > 0$ we get:\n",
    "\n",
    "$$\n",
    "\\phi = c_1 \\cos\\sqrt{\\lambda}x + c_2 \\sin\\sqrt{\\lambda}x\n",
    "$$\n",
    "\n",
    "Using $\\phi(-L) = \\phi(L)$ and that sine is an odd function and cosine is even, we get that:\n",
    "\n",
    "$$\n",
    "c_2 \\sin\\sqrt{\\lambda}L = 0\n",
    "$$\n",
    "\n",
    "Using the other BC: $\\frac{d\\phi}{dx}=\\sqrt{\\lambda}\\left(-c_1 \\sin\\sqrt{\\lambda}x + c_2 \\cos\\sqrt{\\lambda}x\\right)$, BC is satisfied if:\n",
    "\n",
    "$$\n",
    "c_1 \\sqrt{\\lambda}\\sin\\sqrt{\\lambda}L = 0\n",
    "$$\n",
    "\n",
    "To avoid trivial solutions we need that $c_1 \\neq 0$ so we get that $\\sin\\sqrt{\\lambda}L = 0$ which gives us:\n",
    "\n",
    "$$\n",
    "\\lambda = \\left(\\frac{n\\pi}{L}\\right)^2\n",
    "$$\n",
    "\n",
    "We now have that:\n",
    "\n",
    "$$\n",
    "\\phi(x) = \\cos\\frac{n\\pi x}{L},\\sin\\frac{n\\pi x}{L},n=1,2,3,\\ldots\n",
    "$$\n",
    "\n",
    "Combining the two infinite families of product solutions and applying the principle of superposition, our solution is:\n",
    "\n",
    "$$\n",
    "u(x,t) = a_0 + \\sum_{n=1}^{\\infty} a_n \\cos\\frac{n\\pi x}{L}e^{-\\left(\\frac{n\\pi}{L}\\right)^2 kt}\n",
    "+\\sum_{n=1}^{\\infty} b_n \\sin\\frac{n\\pi x}{L}e^{-\\left(\\frac{n\\pi}{L}\\right)^2 kt}\n",
    "$$\n",
    "\n",
    "With our initial condition $u(x,0) = f(x)$, we get:\n",
    "\n",
    "$$u_0(x) = a_0 + \\sum_{n=1}^{\\infty} a_n \\cos\\frac{n\\pi x}{L} + \\sum_{n=1}^{\\infty} b_n \\sin\\frac{n\\pi x}{L}$$\n",
    "\n",
    "We can get $a_0$, $a_n$, and $b_n$ using orthogonality of sines and cosines:\n",
    "\n",
    "$$\n",
    "a_0 = \\frac{1}{2L}\\int_{-L}^{L}u_0(x) dx \\\\\n",
    "a_n = \\frac{1}{L}\\int_{-L}^{L}u_0(x) \\cos\\frac{n\\pi x}{L} dx \\\\\n",
    "b_n = \\frac{1}{L}\\int_{-L}^{L}u_0(x) \\sin\\frac{n\\pi x}{L} dx\n",
    "$$"
   ]
  },
  {
   "cell_type": "markdown",
   "metadata": {
    "deletable": false,
    "editable": false,
    "nbgrader": {
     "cell_type": "markdown",
     "checksum": "f485fccc866a70cb5e65af98c4e58cd2",
     "grade": false,
     "grade_id": "cell-c48917c7fec18882",
     "locked": true,
     "schema_version": 3,
     "solution": false,
     "task": false
    }
   },
   "source": [
    "**(b)** [10] Write down the discretization for the problem resulting from using the Crank-Nicholson method showing the full matrix representation of the discretization and how you came to that representation.  Note that the periodicity will cause there to be a dependence that \"wraps around\" the domain so that the left most point in the domain depends on the right most point and vice-versa."
   ]
  },
  {
   "cell_type": "markdown",
   "metadata": {
    "deletable": false,
    "nbgrader": {
     "cell_type": "markdown",
     "checksum": "9f56394dbb3f813212047e99a9294a20",
     "grade": true,
     "grade_id": "cell-7f3248b58aeefaa3",
     "locked": false,
     "points": 10,
     "schema_version": 3,
     "solution": true,
     "task": false
    }
   },
   "source": [
    "### Solution:\n",
    "\n",
    "Our boundary conditions are:\n",
    "\n",
    "$$\n",
    "u(-L,t) = u(L,t) ~~~~~ \\frac{\\partial}{\\partial x} u(-L,t) = \\frac{\\partial}{\\partial x} u(L,t)\n",
    "$$\n",
    "\n",
    "First-order Centered Differences:\n",
    "$$\n",
    "\n",
    "$$\n",
    "\n",
    "Crank-Nicholson Method for reference:\n",
    "$$\n",
    "    -r U^{n+1}_{i-1} + (1 + 2r) U^{n+1}_i - r U^{n+1}_{i+1} = r U^{n}_{i-1} + (1 - 2r) U^{n}_{i} + r U^{n}_{i+1}\n",
    "$$\n",
    "where $r = \\frac{\\Delta t}{2 \\Delta x^2}$\n",
    "\n",
    "From first-order finite differences:\n",
    "\n",
    "$$\n",
    "\\frac{U_1 - U_0}{\\Delta x} = \\frac{U_0 - U_m}{\\Delta x}\n",
    "$$\n",
    "\n",
    "Which gives us:\n",
    "$$\n",
    "U_0 = \\frac{U_1 + U_m}{2}\n",
    "$$\n",
    "\n",
    "At $i=0$:\n",
    "\n",
    "$$\n",
    "A = \\frac{1}{2}(U_1 + U_m)\n",
    "$$\n",
    "\n",
    "At $i=m$:\n",
    "\n",
    "$$\n",
    "A = -rU_{m-1} + (1 + \\frac{3}{2}U_m) - \\frac{r}{2}U_1 \n",
    "$$\n",
    "\n",
    "$$\n",
    "B = rU_{m-1} + (1 - \\frac{3}{2}U_m) + \\frac{r}{2}U_1 \n",
    "$$\n",
    "\n",
    "$$\n",
    "    A = \\begin{bmatrix}\n",
    "        1+\\frac{3}{2}r & -r-\\frac{r}{2} \\\\\n",
    "        -r & 1+\\frac{3}{2}r - \\frac{r}{2} & 0 \\\\\n",
    "        & -r - \\frac{r}{2} & 1+\\frac{3}{2}r & 0 \\\\\n",
    "        & & \\ddots & \\ddots & \\ddots \\\\\n",
    "        & & & -r & 1+\\frac{3}{2}r & 0 \\\\\n",
    "        & & & & -r & 1+\\frac{3}{2}r\n",
    "    \\end{bmatrix}\n",
    "$$\n"
   ]
  },
  {
   "cell_type": "markdown",
   "metadata": {
    "deletable": false,
    "editable": false,
    "nbgrader": {
     "cell_type": "markdown",
     "checksum": "06bdde7039e4a43b82c57e49a9fcaf1e",
     "grade": false,
     "grade_id": "cell-6734943974012223",
     "locked": true,
     "schema_version": 3,
     "solution": false
    }
   },
   "source": [
    "**(c)** [10] Write a function to solve this problem using the Crank-Nicholson method."
   ]
  },
  {
   "cell_type": "code",
   "execution_count": 91,
   "metadata": {
    "deletable": false,
    "nbgrader": {
     "cell_type": "code",
     "checksum": "b5c4b6225fa375d89899b83aa553fbe0",
     "grade": false,
     "grade_id": "cell-1953053742584120",
     "locked": false,
     "schema_version": 3,
     "solution": true
    }
   },
   "outputs": [],
   "source": [
    "def solve_heat_periodic_CN(m, kappa, L, t_0, t_final, U_0):\n",
    "    \"\"\"Solve the heat equation on a periodic domain using Crank-Nicholson\n",
    "    \n",
    "    :Input:\n",
    "     - *m* (int) Number of points use to discretize the domain.  Note that\n",
    "       the total number of points is *m+1*.\n",
    "     - *kappa* (float) Diffusion coefficient\n",
    "     - *L* (float) Length of half of the domain\n",
    "     - *t_0* (float) Starting time\n",
    "     - *t_final* (float) Time to integrate to\n",
    "     - *U_0* (numpy.ndarray) Initial condition at time t_0, should be m+1\n",
    "     \n",
    "    :Output:\n",
    "     - (numpy.ndarray) Solution at time t_final.  Note that this vector should m+1\n",
    "    \"\"\"\n",
    "    # YOUR CODE HERE\n",
    "\n",
    "    delta_x = L/float(m+1)\n",
    "    \n",
    "    N = 500\n",
    "    t = numpy.linspace(t_0, t_final, N)\n",
    "    delta_t = t[1] - t[0]\n",
    "  \n",
    "    # Solution array\n",
    "    U = numpy.empty((len(t),m+1))\n",
    " \n",
    "    # Initial and boundary conditions  \n",
    "    U[0,:] = U_0\n",
    "    \n",
    "   \n",
    "    # Build solving matrix\n",
    "    r = numpy.ones(m+2) * (kappa*delta_t) / (2.0 * delta_x**2)\n",
    "    A = sparse.spdiags([-r, 1.0 + 2.0 * r, -r], [-1, 0, 1], m, m).tocsr()\n",
    "\n",
    "    # Build matrix for the right hand side computation\n",
    "    B = sparse.spdiags([r, 1.0 - 2.0 * r, r], [-1, 0, 1],  m, m).tocsr()\n",
    "\n",
    "    # Time stepping loop \n",
    "    for n in range(len(t)-1):\n",
    "        # Construct right-hand side\n",
    "        b = B.dot(U[n,:][0:-1])\n",
    "        b[0] += kappa*delta_t / (2.0 * delta_x**2) * (g_0(t[n]) + g_0(t[n+1]))\n",
    "        b[-1] += kappa*delta_t / (2.0 * delta_x**2) * (g_1(t[n]) + g_1(t[n+1]))\n",
    "        \n",
    "        # Solve system\n",
    "        U[n+1,:][0:-1] = linalg.spsolve(A,b) \n",
    "    \n",
    "    return U[n+1,:]"
   ]
  },
  {
   "cell_type": "code",
   "execution_count": 92,
   "metadata": {
    "deletable": false,
    "editable": false,
    "nbgrader": {
     "cell_type": "code",
     "checksum": "8e5e3513a1b70f6acfdc00b402cc6328",
     "grade": true,
     "grade_id": "cell-9771866283718214",
     "locked": true,
     "points": 10,
     "schema_version": 3,
     "solution": false
    }
   },
   "outputs": [
    {
     "name": "stdout",
     "output_type": "stream",
     "text": [
      "Error = 1.287646859072221\n"
     ]
    },
    {
     "ename": "AssertionError",
     "evalue": "",
     "output_type": "error",
     "traceback": [
      "\u001b[0;31m---------------------------------------------------------------------------\u001b[0m",
      "\u001b[0;31mAssertionError\u001b[0m                            Traceback (most recent call last)",
      "\u001b[0;32m<ipython-input-92-0e5bcd94afff>\u001b[0m in \u001b[0;36m<module>\u001b[0;34m\u001b[0m\n\u001b[1;32m     19\u001b[0m \u001b[0merror\u001b[0m \u001b[0;34m=\u001b[0m \u001b[0mnumpy\u001b[0m\u001b[0;34m.\u001b[0m\u001b[0mlinalg\u001b[0m\u001b[0;34m.\u001b[0m\u001b[0mnorm\u001b[0m\u001b[0;34m(\u001b[0m\u001b[0mdelta_x\u001b[0m \u001b[0;34m*\u001b[0m \u001b[0;34m(\u001b[0m\u001b[0mU\u001b[0m\u001b[0;34m[\u001b[0m\u001b[0;34m-\u001b[0m\u001b[0;36m1\u001b[0m\u001b[0;34m,\u001b[0m \u001b[0;34m:\u001b[0m\u001b[0;34m]\u001b[0m \u001b[0;34m-\u001b[0m \u001b[0mu_true\u001b[0m\u001b[0;34m(\u001b[0m\u001b[0mx\u001b[0m\u001b[0;34m[\u001b[0m\u001b[0;34m:\u001b[0m\u001b[0;34m-\u001b[0m\u001b[0;36m1\u001b[0m\u001b[0;34m]\u001b[0m\u001b[0;34m,\u001b[0m \u001b[0moutput_times\u001b[0m\u001b[0;34m[\u001b[0m\u001b[0;34m-\u001b[0m\u001b[0;36m1\u001b[0m\u001b[0;34m]\u001b[0m\u001b[0;34m)\u001b[0m\u001b[0;34m)\u001b[0m\u001b[0;34m,\u001b[0m \u001b[0mord\u001b[0m\u001b[0;34m=\u001b[0m\u001b[0;36m1\u001b[0m\u001b[0;34m)\u001b[0m\u001b[0;34m\u001b[0m\u001b[0;34m\u001b[0m\u001b[0m\n\u001b[1;32m     20\u001b[0m \u001b[0mprint\u001b[0m\u001b[0;34m(\u001b[0m\u001b[0;34m\"Error = %s\"\u001b[0m \u001b[0;34m%\u001b[0m \u001b[0merror\u001b[0m\u001b[0;34m)\u001b[0m\u001b[0;34m\u001b[0m\u001b[0;34m\u001b[0m\u001b[0m\n\u001b[0;32m---> 21\u001b[0;31m \u001b[0;32massert\u001b[0m \u001b[0merror\u001b[0m \u001b[0;34m<\u001b[0m \u001b[0;36m1e-3\u001b[0m\u001b[0;34m\u001b[0m\u001b[0;34m\u001b[0m\u001b[0m\n\u001b[0m\u001b[1;32m     22\u001b[0m \u001b[0mprint\u001b[0m\u001b[0;34m(\u001b[0m\u001b[0;34m\"Success!\"\u001b[0m\u001b[0;34m)\u001b[0m\u001b[0;34m\u001b[0m\u001b[0;34m\u001b[0m\u001b[0m\n\u001b[1;32m     23\u001b[0m \u001b[0;34m\u001b[0m\u001b[0m\n",
      "\u001b[0;31mAssertionError\u001b[0m: "
     ]
    }
   ],
   "source": [
    "L = numpy.pi\n",
    "kappa = 0.075\n",
    "u_true = lambda x, t: 6.0 * numpy.sin(2.0 * numpy.pi / L * x) * numpy.exp(-4.0 * kappa * (numpy.pi / L)**2 * t) + 3.0\n",
    "\n",
    "# Discretization and output times\n",
    "# Note that there are m unknowns including one of the points either at 0 or L\n",
    "m = 200\n",
    "delta_x = (2.0 * L) / float(m + 1)\n",
    "x = numpy.linspace(-L, L, m + 2)\n",
    "x_fine = numpy.linspace(-L, L, 100)\n",
    "output_times = (0.0, 2.5, 5.0, 7.5, 10.0)\n",
    "\n",
    "# Solve\n",
    "U = numpy.empty((len(output_times), m + 1))\n",
    "U[0, :] = u_true(x[:-1], 0.0)\n",
    "for (n, t) in enumerate(output_times[1:]):\n",
    "    U[n + 1, :] = solve_heat_periodic_CN(m, kappa, L, output_times[n], t, U[n, :])\n",
    "\n",
    "error = numpy.linalg.norm(delta_x * (U[-1, :] - u_true(x[:-1], output_times[-1])), ord=1)\n",
    "print(\"Error = %s\" % error)\n",
    "assert error < 1e-3\n",
    "print(\"Success!\")\n",
    "\n",
    "# Plot some of the results\n",
    "colors = ['k', 'r', 'b', 'g', 'c']\n",
    "fig = plt.figure()\n",
    "axes = fig.add_subplot(1, 1, 1)\n",
    "for (n, t) in enumerate(output_times):\n",
    "    axes.plot(x_fine, u_true(x_fine, t), 'k-')\n",
    "    axes.plot(x[:-1], U[n, :], \"o%s\" % colors[n], label='t=%s' % numpy.round(t, 4))\n",
    "    axes.set_xlabel(\"x\")\n",
    "    axes.set_ylabel(\"$U_(x,t)$\")\n",
    "    axes.set_title(\"Solution to Heat Equation\")\n",
    "    axes.set_xlim([-L, L])\n",
    "    axes.legend()\n",
    "plt.show()"
   ]
  },
  {
   "cell_type": "markdown",
   "metadata": {
    "deletable": false,
    "editable": false,
    "nbgrader": {
     "cell_type": "markdown",
     "checksum": "ae07536d39335dd2e9e81b5f8ca2f4da",
     "grade": false,
     "grade_id": "cell-9255020430780614",
     "locked": true,
     "schema_version": 3,
     "solution": false
    }
   },
   "source": [
    "# Question 2 - Diffusion and Decay\n",
    "\n",
    "Consider the partial differential equation \n",
    "\n",
    "$$\n",
    "    \\frac{\\partial u}{\\partial t} = \\kappa \\frac{\\partial^2 u}{\\partial x^2} -\\gamma u,\n",
    "$$\n",
    "\n",
    "which models a diffusion with parameter $\\kappa \\in \\mathbb R_{>0}$ with decay specified by $\\gamma \\in \\mathbb R_{>0}$.\n",
    "\n",
    "Consider a $\\theta$-method of the form\n",
    "\n",
    "$$\n",
    "    U_j^{n+1} = U_j^n + \\frac {\\kappa \\Delta t} {2\\Delta x^2} \\left( U_{j-1}^n - 2 U_j^n + U_{j+1}^n + U_{j-1}^{n+1} - 2U_j^{n+1}+U_{j+1}^{n+1} \\right)-\\Delta t\\gamma\\left( (1-\\theta) U^n_j +\\theta U_j^{n+1} \\right)\n",
    "$$\n",
    "\n",
    "where $\\theta$ is a parameter."
   ]
  },
  {
   "cell_type": "markdown",
   "metadata": {
    "deletable": false,
    "editable": false,
    "nbgrader": {
     "cell_type": "markdown",
     "checksum": "8a786b11e522fa31533cd7dbbf3c3576",
     "grade": false,
     "grade_id": "cell-6621174726566894",
     "locked": true,
     "schema_version": 3,
     "solution": false
    }
   },
   "source": [
    "**(a)** [15] Assume $\\kappa = 1 $, by computing the local truncation error, show that this method is $p$th order accurate in time and second order accurate in space, where $p=2$ for $\\theta = 0.5$ and $p=1$ otherwise."
   ]
  },
  {
   "cell_type": "markdown",
   "metadata": {
    "deletable": false,
    "nbgrader": {
     "cell_type": "markdown",
     "checksum": "e84ca3b8feb7fdd4e35005ea3b089e85",
     "grade": true,
     "grade_id": "cell-8570106802975743",
     "locked": false,
     "points": 15,
     "schema_version": 3,
     "solution": true
    }
   },
   "source": [
    "### Solution:\n",
    "\n",
    "Applying Taylor series expansion to our $\\theta$-method, and expanding gives us:\n",
    "\n",
    "$$\n",
    "u_t(x, t) + u_{tt}(x, t)\\frac{\\Delta t}{2} + u_{ttt}(x, t)\\frac{\\Delta t^3}{6} - u_{xx}(x, t) - \\frac{\\Delta x^2}{12}u_{xxxx}(x, t) + \\gamma \\Delta tu(x, t) + \\theta \\Delta t^2 u_t(x, t) + \\theta \\frac{\\Delta t^3}{2}u_{tt}(x, t) = 0\n",
    "$$\n",
    "\n",
    "We have $u_t \\to u_{xx}$, and ignoring the higher order terms:\n",
    "\n",
    "$$\n",
    "\\gamma \\Delta t u(x, t) + \\theta \\Delta t^2 u_{xx}(x, t) + \\left(\\frac{\\Delta t}{2} + \\frac{\\theta\\Delta t^3}{2} - \\frac{\\Delta x^2}{12}\\right) u_{xxxx}(x, t)\n",
    "$$\n",
    "\n",
    "When $\\theta=0.5$, the truncation error is lead by the $\\Delta x^2$ term, so $p=2$."
   ]
  },
  {
   "cell_type": "markdown",
   "metadata": {
    "deletable": false,
    "editable": false,
    "nbgrader": {
     "cell_type": "markdown",
     "checksum": "cd0f204ab5057d4a15b731408ca0cf98",
     "grade": false,
     "grade_id": "cell-8225876585877517",
     "locked": true,
     "schema_version": 3,
     "solution": false
    }
   },
   "source": [
    "**(b)** [10] Using von Neumann analysis, show that this method is unconditionally stable if $\\theta \\geq 0.5$."
   ]
  },
  {
   "cell_type": "markdown",
   "metadata": {
    "deletable": false,
    "nbgrader": {
     "cell_type": "markdown",
     "checksum": "1beaef51ebeca6d6e84f3ad356a790ca",
     "grade": true,
     "grade_id": "cell-1686556357538657",
     "locked": false,
     "points": 10,
     "schema_version": 3,
     "solution": true
    }
   },
   "source": [
    "### Solution:\n",
    "\n",
    "Rewriting with $z = i \\Delta x \\xi$  gives us:\n",
    "\n",
    "$$\n",
    "U_j^{n+1} = U_j^n + \\frac{\\Delta t}{2 \\Delta x^2}\\left(\\left(e^{-iz} - 2 + e^{iz}\\right)U_j^n + \\left(e^{-iz} - 2 + e^{iz}\\right)U_j^{n+1}\\right) - \\Delta t \\gamma (1- \\theta)U_j^n - \\Delta t \\gamma \\theta U_j^{n+1}\n",
    "$$\n",
    "\n",
    "$$ \n",
    "=\\left(1 + \\frac{\\Delta t}{2\\Delta x^2} \\left( e^{-iz} - 2 + e^{iz} - 2\\Delta x^2\\gamma(1-\\theta) \\right)  + \\frac{\\Delta t}{2\\Delta x^2} \\left( e^{-iz} - 2 + e^{iz} - 2\\Delta x^2\\gamma\\theta \\right)g(\\xi)\\right) U_j^n\n",
    "$$\n",
    "\n",
    "$f(z) = e^{-iz} - 2 + e^{iz}$, we get:\n",
    "\n",
    "$$\n",
    "g(\\xi) = \\frac{1 + \\frac{\\Delta t}{2\\Delta x^2}\\left(f(z) - 2\\Delta x^2 \\gamma (1-\\theta)\\right) }{1 - \\frac{\\Delta t}{2\\Delta x^2}\\left(f(z) - 2\\Delta x^2 \\gamma \\theta\\right)}\n",
    "$$"
   ]
  },
  {
   "cell_type": "markdown",
   "metadata": {
    "deletable": false,
    "editable": false,
    "nbgrader": {
     "cell_type": "markdown",
     "checksum": "b33e6be3dcf07f23fe32c454bb9def24",
     "grade": false,
     "grade_id": "cell-7190104992439313",
     "locked": true,
     "schema_version": 3,
     "solution": false
    }
   },
   "source": [
    "**(c)** [10] Show that, if $\\theta = 0$, then the method  is stable provided $\\Delta t \\leq \\frac 2 \\gamma$, independent of $\\Delta x$."
   ]
  },
  {
   "cell_type": "markdown",
   "metadata": {
    "deletable": false,
    "nbgrader": {
     "cell_type": "markdown",
     "checksum": "4a6cf974d23fbc604f492b5b2f33acb3",
     "grade": true,
     "grade_id": "cell-2159161909797634",
     "locked": false,
     "points": 10,
     "schema_version": 3,
     "solution": true
    }
   },
   "source": [
    "### Solution:\n",
    "\n",
    "From previous:\n",
    "\n",
    "$$\n",
    "g(\\xi) = \\frac{1 + \\frac{\\Delta t}{2\\Delta x^2}\\left(f(z) - 2\\Delta x^2 \\gamma \\right) }{1 - \\frac{\\Delta t}{2\\Delta x^2}f(z) }  \\leq 1\n",
    "$$\n",
    "\n",
    "$f(z) \\leq 0$ for all $\\xi$:\n",
    "\n",
    "$$\n",
    "f(z) \\leq 0  \\implies 1 + \\frac{\\Delta t}{2\\Delta x^2}\\left(f(z) - 2\\Delta x^2 \\gamma \\right) \\geq g(\\xi)\n",
    "$$\n",
    "\n",
    "Then:\n",
    "\n",
    "$$\n",
    "f(z) - 2\\Delta x^2 \\gamma < 0 \\implies f(z) < -2\\Delta x^2 \\gamma\n",
    "$$\n",
    "\n",
    "Note: $f(z) \\geq \\frac{-4\\Delta t}{\\Delta x^2}$. Substituting:\n",
    "\n",
    "$$ \n",
    "\\frac{-4\\Delta t}{\\Delta x^2} \\leq -2\\Delta x^2 \\gamma \\implies \n",
    "\\fbox{$\\Delta t \\leq \\frac{2}{\\gamma}$}\n",
    "$$"
   ]
  },
  {
   "cell_type": "markdown",
   "metadata": {
    "deletable": false,
    "editable": false,
    "nbgrader": {
     "cell_type": "markdown",
     "checksum": "93ca5ef503944430b0e74c37df48cad0",
     "grade": false,
     "grade_id": "cell-5116960906714570",
     "locked": true,
     "schema_version": 3,
     "solution": false
    }
   },
   "source": [
    "## Question 3 - Heat Equation\n",
    "\n",
    "Consider the heat equation with zero boundary conditions:\n",
    "\n",
    "$$\n",
    "    \\frac{\\partial u}{\\partial t} = \\kappa \\frac{\\partial^2 u}{\\partial x^2} \\qquad \\mbox{on } [0,L]\\times \\mathbb R_+\\\\\n",
    "    u(x,0) = u_0(x) ~~~~~~ u(0,t) = 0 ~~~~~ u(L,t) = 0.\n",
    "$$"
   ]
  },
  {
   "cell_type": "markdown",
   "metadata": {
    "deletable": false,
    "editable": false,
    "nbgrader": {
     "cell_type": "markdown",
     "checksum": "d669dac52b78d72e486f95f556c164d5",
     "grade": false,
     "grade_id": "cell-8873220889852927",
     "locked": true,
     "schema_version": 3,
     "solution": false
    }
   },
   "source": [
    "**(a)** [10] Implement the *backward Euler* and *Crank-Nicholson* methods to solve this equation.  You are responsible for picking a $\\Delta t$ so that the numerical method has enough accuracy but hits the end time $t_f$ exactly (or as much as this is possible with floating point arithmetic).  Note that making $\\Delta t$ too small may harm your accuracy as much as picking one that is too big."
   ]
  },
  {
   "cell_type": "markdown",
   "metadata": {},
   "source": [
    "Backwards Euler is:\n",
    "\n",
    "$$\n",
    "    \\frac{U^{n+1}_i - U^n_i}{\\Delta t} = \\frac{1}{\\Delta x^2} (U^{n+1}_{i-1} - 2 U^{n+1}_i + U^{n+1}_{i+1})\n",
    "$$\n",
    "\n",
    "Rewriting:\n",
    "\n",
    "$$\n",
    "    U^{n+1}_i = U^n_i + \\frac{\\Delta t}{\\Delta x^2} (U^{n+1}_{i-1} - 2 U^{n+1}_i + U^{n+1}_{i+1}).\n",
    "$$\n",
    "\n",
    "We can express this as:\n",
    "\n",
    "$$\n",
    "    U^{n+1}_i = U^n_i + \\Delta t f(t_{n+1}, U^n_i)\n",
    "$$\n",
    "\n",
    "Where:\n",
    "$$\n",
    "    f(t_{n+1}, U^n_i) = \\frac{1}{\\Delta x^2} (U^{n+1}_{i-1} - 2 U^{n+1}_i + U^{n+1}_{i+1})\n",
    "$$\n"
   ]
  },
  {
   "cell_type": "code",
   "execution_count": 160,
   "metadata": {
    "deletable": false,
    "nbgrader": {
     "cell_type": "code",
     "checksum": "e22ff7f70b58a4be1f662a41515e4adb",
     "grade": false,
     "grade_id": "cell-3417028166262158",
     "locked": false,
     "schema_version": 3,
     "solution": true
    }
   },
   "outputs": [],
   "source": [
    "def solve_heat_BE(m, kappa, L, t_0, t_final, U_0, g_0, g_1):\n",
    "    \"\"\"Solve the heat equation using backward Euler and given boundaries\n",
    "    \n",
    "    Function will take the necessary number of time steps to reach t_final\n",
    "    from t_0.  Note that this may mean taking a slightly smaller time step \n",
    "    size to hit t_f exactly.\n",
    "    \n",
    "    :Input:\n",
    "     - *m* (int) Number of points use to discretize the domain.  Note that\n",
    "       the total number of points is *m+1*.\n",
    "     - *kappa* (float) Diffusion coefficient\n",
    "     - *L* (float) Length of half of the domain\n",
    "     - *t_0* (float) Starting time\n",
    "     - *t_final* (float) Time to integrate to\n",
    "     - *U_0* (numpy.ndarray) Initial condition at time t_0, should be m+1\n",
    "     - *g_0* (func) Boundary condition at x=0\n",
    "     - *g_1* (func) Boundary condition at x=L\n",
    "     \n",
    "    :Output:\n",
    "     - (numpy.ndarray) Solution at time t_final.  Note that this vector should m+1\n",
    "    \"\"\"\n",
    "    # YOUR CODE HERE\n",
    "    delta_x = L / float(m+1)\n",
    "    \n",
    "    # generate time mesh\n",
    "    C = 0.5\n",
    "    delta_t = C * delta_x\n",
    "    t = numpy.arange(t_0, t_final, delta_t)\n",
    "    \n",
    "    #Time Step\n",
    "    time_step = math.ceil((t_final - t_0)/delta_t)\n",
    "    t = numpy.linspace(t_0, t_final, time_step)\n",
    "    delta_t = t[1] - t[0]\n",
    "\n",
    "    # Solution array & IC & BC\n",
    "    U = numpy.empty((len(t), m+2))\n",
    "    U[0, :] = U_0\n",
    "    \n",
    "    r = numpy.ones(m) * (kappa*delta_t) / (delta_x**2)\n",
    "    A = sparse.spdiags([-r, 1.0 + 2.0 * r, -r], [-1, 0, 1], m, m).tocsr()\n",
    "\n",
    "    # Time stepping loop\n",
    "    for n in range(len(t) - 1):\n",
    "    \n",
    "        b = U[n, :][1:-1]\n",
    "        \n",
    "        #BC\n",
    "        bc1 = g_0(t[n+1])\n",
    "        bc2 = g_1(t[n+1])\n",
    "        \n",
    "        # correct U_n with BCs at ends\n",
    "        b[0] += (kappa*delta_t) / (delta_x**2) * bc1\n",
    "        b[-1] += (kappa*delta_t) / (delta_x**2) * bc2\n",
    "        \n",
    "        # solve\n",
    "        U[n+1, :][1:-1] = linalg.spsolve(A, b)\n",
    "        U[n+1, 0] = bc1 \n",
    "        U[n+1, -1] = bc2 \n",
    "    \n",
    "    return U[n+1, :]"
   ]
  },
  {
   "cell_type": "code",
   "execution_count": 161,
   "metadata": {
    "deletable": false,
    "editable": false,
    "nbgrader": {
     "cell_type": "code",
     "checksum": "cd47c14c325ce90020ff654981ae06a7",
     "grade": true,
     "grade_id": "cell-917535025885043",
     "locked": true,
     "points": 5,
     "schema_version": 3,
     "solution": false
    }
   },
   "outputs": [
    {
     "name": "stdout",
     "output_type": "stream",
     "text": [
      "Error BE = 0.00012127666733790264\n"
     ]
    },
    {
     "data": {
      "image/png": "[encoded data removed]",
      "text/plain": [
       "<Figure size 432x288 with 1 Axes>"
      ]
     },
     "metadata": {
      "needs_background": "light"
     },
     "output_type": "display_data"
    }
   ],
   "source": [
    "beta = 150.0\n",
    "kappa = 0.02\n",
    "L = 1.0\n",
    "u_true = lambda x, t: numpy.exp(-(x - 0.4)**2. / (4.0 * kappa * t + 1.0 / beta)) \\\n",
    "                                            / numpy.sqrt(4.0 * kappa * beta * t + 1.0)\n",
    "g_0 = lambda t: u_true(0.0, t)\n",
    "g_1 = lambda t: u_true(L, t)\n",
    "\n",
    "# Discretization and output times\n",
    "m = 80\n",
    "x = numpy.linspace(0.0, L, m + 2)\n",
    "x_fine = numpy.linspace(0.0, L, 100)\n",
    "delta_x = L / float(m + 1)\n",
    "output_times = (0.0, 0.5, 1.0, 1.5, 2.0)\n",
    "\n",
    "# Solve\n",
    "U_BE = numpy.empty((len(output_times), m + 2))\n",
    "U_BE[0, :] = u_true(x, 0.0)\n",
    "for (n, t) in enumerate(output_times[1:]):\n",
    "    U_BE[n + 1, :] = solve_heat_BE(m, kappa, L, output_times[n], t, U_BE[n, :], g_0, g_1)\n",
    "\n",
    "error = numpy.linalg.norm(delta_x * (U_BE[-1, :] - u_true(x, output_times[-1])), ord=1)\n",
    "print(\"Error BE = %s\" % error)\n",
    "assert error < 1e-3\n",
    "\n",
    "# Plot some of the results\n",
    "colors = ['k', 'r', 'b', 'g', 'c']\n",
    "fig = plt.figure()\n",
    "axes_BE = fig.add_subplot(1, 1, 1)\n",
    "for (n, t) in enumerate(output_times):\n",
    "    axes_BE.plot(x_fine, u_true(x_fine, t), 'k-')\n",
    "    axes_BE.plot(x, U_BE[n, :], \"o%s\" % colors[n], label='t=%s' % numpy.round(t, 4))\n",
    "    axes_BE.set_xlabel(\"x\")\n",
    "    axes_BE.set_ylabel(\"$U_(x,t)$\")\n",
    "    axes_BE.set_title(\"Solution to Heat Equation\")\n",
    "    axes_BE.set_xlim([0, L])\n",
    "    axes_BE.legend()\n",
    "    \n",
    "plt.tight_layout()\n",
    "plt.show()"
   ]
  },
  {
   "cell_type": "code",
   "execution_count": 162,
   "metadata": {
    "deletable": false,
    "nbgrader": {
     "cell_type": "code",
     "checksum": "20789fc2793e760f8c93c27260b0237e",
     "grade": false,
     "grade_id": "cell-3076790102715140",
     "locked": false,
     "schema_version": 3,
     "solution": true
    }
   },
   "outputs": [],
   "source": [
    "import math\n",
    "\n",
    "def solve_heat_CN(m, kappa, L, t_0, t_final, U_0, g_0, g_1):\n",
    "    \"\"\"Solve the heat equation using Crank-Nicholson and given boundaries\n",
    "    \n",
    "    Function will take the necessary number of time steps to reach t_final\n",
    "    from t_0.  Note that this may mean taking a slightly smaller time step \n",
    "    size to hit t_f exactly.\n",
    "    \n",
    "    :Input:\n",
    "     - *m* (int) Number of points use to discretize the domain.  Note that\n",
    "       the total number of points is *m+1*.\n",
    "     - *kappa* (float) Diffusion coefficient\n",
    "     - *L* (float) Length of half of the domain\n",
    "     - *t_0* (float) Starting time\n",
    "     - *t_final* (float) Time to integrate to\n",
    "     - *U_0* (numpy.ndarray) Initial condition at time t_0, should be m+1\n",
    "     - *g_0* (func) Boundary condition at x=0\n",
    "     - *g_1* (func) Boundary condition at x=L\n",
    "     \n",
    "    :Output:\n",
    "     - (numpy.ndarray) Solution at time t_final.  Note that this vector should m+1\n",
    "    \"\"\"\n",
    "    # YOUR CODE HERE\n",
    "  \n",
    "    delta_x = 1/float(m+1)\n",
    "    \n",
    "    N = 500\n",
    "    t = numpy.linspace(t_0, t_final, N)\n",
    "    delta_t = t[1] - t[0]\n",
    "\n",
    "  \n",
    "    # Solution array\n",
    "    U = numpy.empty((len(t),m+2))\n",
    "\n",
    "  \n",
    "    # Initial and boundary conditions  \n",
    "    U[0,:] = U_0\n",
    "    U[0,0] = g_0(0)\n",
    "    U[0,-1] = g_1(0)\n",
    "    \n",
    "    \n",
    "    # Build solving matrix\n",
    "    r = numpy.ones(m+2) * (kappa*delta_t) / (2.0 * delta_x**2)\n",
    "    A = sparse.spdiags([-r, 1.0 + 2.0 * r, -r], [-1, 0, 1], m, m).tocsr()\n",
    "\n",
    "    # Build matrix for the right hand side computation\n",
    "    B = sparse.spdiags([r, 1.0 - 2.0 * r, r], [-1, 0, 1],  m, m).tocsr()\n",
    "\n",
    "    # Time stepping loop \n",
    "    for n in range(len(t)-1):\n",
    "        # Construct right-hand side\n",
    "        b = B.dot(U[n,:][1:-1])\n",
    "        b[0] += kappa*delta_t / (2.0 * delta_x**2) * (g_0(t[n]) + g_0(t[n+1]))\n",
    "        b[-1] += kappa*delta_t / (2.0 * delta_x**2) * (g_1(t[n]) + g_1(t[n+1]))\n",
    "        \n",
    "        # Solve system\n",
    "        U[n+1,:][1:-1] = linalg.spsolve(A,b)\n",
    "        U[n+1, 0] = g_0(t[n+1]) \n",
    "        U[n+1, -1] = g_1(t[n+1]) \n",
    "    \n",
    "    return U[n+1,:]"
   ]
  },
  {
   "cell_type": "code",
   "execution_count": 163,
   "metadata": {
    "deletable": false,
    "editable": false,
    "nbgrader": {
     "cell_type": "code",
     "checksum": "f7612424a5301dde9e19eb0667f6a518",
     "grade": true,
     "grade_id": "cell-3620552627358343",
     "locked": true,
     "points": 5,
     "schema_version": 3,
     "solution": false
    }
   },
   "outputs": [
    {
     "name": "stdout",
     "output_type": "stream",
     "text": [
      "Error CN = 0.000306461708344048\n",
      "Success!\n"
     ]
    },
    {
     "data": {
      "image/png": "[encoded data removed]",
      "text/plain": [
       "<Figure size 432x288 with 1 Axes>"
      ]
     },
     "metadata": {
      "needs_background": "light"
     },
     "output_type": "display_data"
    }
   ],
   "source": [
    "beta = 150.0\n",
    "kappa = 0.02\n",
    "L = 1.0\n",
    "u_true = lambda x, t: numpy.exp(-(x - 0.4)**2. / (4.0 * kappa * t + 1.0 / beta)) \\\n",
    "                                            / numpy.sqrt(4.0 * kappa * beta * t + 1.0)\n",
    "g_0 = lambda t: u_true(0.0, t)\n",
    "g_1 = lambda t: u_true(L, t)\n",
    "\n",
    "# Discretization and output times\n",
    "m = 20\n",
    "x = numpy.linspace(0.0, L, m + 2)\n",
    "x_fine = numpy.linspace(0.0, L, 100)\n",
    "delta_x = L / float(m + 1)\n",
    "output_times = (0.0, 0.5, 1.0, 1.5, 2.0)\n",
    "\n",
    "# Solve\n",
    "U_CN = numpy.empty((len(output_times), m + 2))\n",
    "U_CN[0, :] = u_true(x, 0.0)\n",
    "for (n, t) in enumerate(output_times[1:]):\n",
    "    U_CN[n + 1, :] = solve_heat_CN(m, kappa, L, output_times[n], t, U_CN[n, :], g_0, g_1)\n",
    "\n",
    "error = numpy.linalg.norm(delta_x * (U_CN[-1, :] - u_true(x, output_times[-1])), ord=1)\n",
    "print((\"Error CN = %s\" % error))\n",
    "assert error < 1e-3\n",
    "print(\"Success!\")\n",
    "\n",
    "# Plot some of the results\n",
    "colors = ['k', 'r', 'b', 'g', 'c']\n",
    "fig = plt.figure()\n",
    "axes_CN = fig.add_subplot(1, 1, 1)\n",
    "for (n, t) in enumerate(output_times):\n",
    "    axes_CN.plot(x_fine, u_true(x_fine, t), 'k-')\n",
    "    axes_CN.plot(x, U_CN[n, :], \"o%s\" % colors[n], label='t=%s' % numpy.round(t, 4))\n",
    "    axes_CN.set_xlabel(\"x\")\n",
    "    axes_CN.set_ylabel(\"$U_(x,t)$\")\n",
    "    axes_CN.set_title(\"Solution to Heat Equation\")\n",
    "    axes_CN.set_xlim([0, L])\n",
    "    axes_CN.legend()\n",
    "\n",
    "plt.tight_layout()\n",
    "plt.show()"
   ]
  },
  {
   "cell_type": "markdown",
   "metadata": {
    "deletable": false,
    "editable": false,
    "nbgrader": {
     "cell_type": "markdown",
     "checksum": "b12d43ccf6d34f33e346b222f295b0f5",
     "grade": false,
     "grade_id": "cell-1576339658884031",
     "locked": true,
     "schema_version": 3,
     "solution": false
    }
   },
   "source": [
    "**(b)** [5] Perform a convergence analysis on the methods above (i.e. plot their convergence)."
   ]
  },
  {
   "cell_type": "markdown",
   "metadata": {},
   "source": [
    "### Solution\n",
    "\n",
    "It appears that both plots converge. The only difference is that the Backwards Euler appears to have a larger error before converging."
   ]
  },
  {
   "cell_type": "code",
   "execution_count": 165,
   "metadata": {
    "deletable": false,
    "nbgrader": {
     "cell_type": "code",
     "checksum": "adb13f6b23e567973b8175792ae6186d",
     "grade": true,
     "grade_id": "cell-7036273437240125",
     "locked": false,
     "points": 5,
     "schema_version": 3,
     "solution": true
    }
   },
   "outputs": [
    {
     "data": {
      "image/png": "[encoded data removed]",
      "text/plain": [
       "<Figure size 360x720 with 2 Axes>"
      ]
     },
     "metadata": {
      "needs_background": "light"
     },
     "output_type": "display_data"
    }
   ],
   "source": [
    "beta = 150.0\n",
    "kappa = 0.02\n",
    "L = 1.0\n",
    "u_true = lambda x, t: numpy.exp(-(x - 0.4)**2. / (4.0 * kappa * t + 1.0 / beta)) \\\n",
    "                                        / numpy.sqrt(4.0 * kappa * beta * t + 1.0)\n",
    "g_0 = lambda t: u_true(0.0, t)\n",
    "g_1 = lambda t: u_true(L, t)\n",
    "m = 20\n",
    "x = numpy.linspace(0.0, L, m + 2)\n",
    "delta_x = L / float(m + 1)\n",
    "t_final = 50\n",
    "\n",
    "\n",
    "fig = plt.figure(figsize=(5,10))\n",
    "axes = fig.add_subplot(2, 1, 1)\n",
    "axes.plot(x, u_true(x,t_final) - solve_heat_CN(m, kappa, L, 0, t_final, u_true(x, 0.0), g_0, g_1))\n",
    "axes.set_xlabel(\"x\")\n",
    "axes.set_ylabel(\"$U_(x,t)-u_true$\")\n",
    "axes.set_title(\"Convergence of Crank-Nicholson\")\n",
    "axes.grid()\n",
    "axes = fig.add_subplot(2,1,2)\n",
    "axes.plot(x, u_true(x,t_final) - solve_heat_BE(m, kappa, L, 0, t_final, U_0, g_0, g_1),'r')\n",
    "axes.set_xlabel(\"x\")\n",
    "axes.set_ylabel(\"$U_(x,t)-u_true$\")\n",
    "axes.set_title(\"Convergence of Backwards Euler\")\n",
    "axes.grid()"
   ]
  },
  {
   "cell_type": "markdown",
   "metadata": {
    "deletable": false,
    "editable": false,
    "nbgrader": {
     "cell_type": "markdown",
     "checksum": "17c717809841d5a9b08ec4a13d4240da",
     "grade": false,
     "grade_id": "cell-9562652756309798",
     "locked": true,
     "schema_version": 3,
     "solution": false
    }
   },
   "source": [
    "**(c)** [10] Are there initial and/or boundary conditions that you would expect would not be well handled in the methods above?  Justify your solution with the appropriate analysis and numerical experiment."
   ]
  },
  {
   "cell_type": "markdown",
   "metadata": {
    "deletable": false,
    "nbgrader": {
     "cell_type": "markdown",
     "checksum": "d430b7441d33e67995495da006a948b1",
     "grade": true,
     "grade_id": "cell-2030423087894479",
     "locked": false,
     "points": 5,
     "schema_version": 3,
     "solution": true
    }
   },
   "source": [
    "### Solution:\n",
    "\n",
    "Since Crank-Nicholson is second-order accurate in the interior region, Crank-Nicholson would not handle discountinuous boundary conditions, and I would imagine it not handling discountinuous initial conditions well either since C-N is a finite-difference method. "
   ]
  },
  {
   "cell_type": "code",
   "execution_count": null,
   "metadata": {
    "deletable": false,
    "nbgrader": {
     "cell_type": "code",
     "checksum": "d2053cc3829761df402dfa6fca16f0eb",
     "grade": true,
     "grade_id": "cell-7775698136006266",
     "locked": false,
     "points": 5,
     "schema_version": 3,
     "solution": true
    }
   },
   "outputs": [],
   "source": [
    "# YOUR CODE HERE\n",
    "#raise NotImplementedError()"
   ]
  },
  {
   "cell_type": "markdown",
   "metadata": {
    "deletable": false,
    "editable": false,
    "nbgrader": {
     "cell_type": "markdown",
     "checksum": "07a96a8e73af37890e2c43ae4740e61d",
     "grade": false,
     "grade_id": "cell-8918549981883261",
     "locked": true,
     "schema_version": 3,
     "solution": false
    }
   },
   "source": [
    "**(d)** [10] What would you expect to happen numerically if we specified inconsistent initial/boundary conditions?  This might include not enough boundary conditions, too many, and/or boundary and initial conditions that do not agree.  Justify your conclusions with analysis and if needed with numerical experiments."
   ]
  },
  {
   "cell_type": "markdown",
   "metadata": {
    "deletable": false,
    "nbgrader": {
     "cell_type": "markdown",
     "checksum": "4940d437f264bbe3106b288ea9ebf105",
     "grade": true,
     "grade_id": "cell-5353194383197244",
     "locked": false,
     "points": 5,
     "schema_version": 3,
     "solution": true
    }
   },
   "source": [
    "### Answer:\n",
    "\n",
    "Below, I modified the functions above and used the test code but with a missing boundary condition. For the case with not enough boundary conditions, it doesn't seem to affect the convergence much. I also tried adding in an extra boundary condition for Crank-Nicholson, but it doesn't seem to affect convergence of the method either. The same cannot be said for the Backwards Euler Method, as it seems to be doing well at first then starts to diverge from the true solution."
   ]
  },
  {
   "cell_type": "code",
   "execution_count": 196,
   "metadata": {},
   "outputs": [
    {
     "data": {
      "image/png": "[encoded data removed]",
      "text/plain": [
       "<Figure size 432x288 with 1 Axes>"
      ]
     },
     "metadata": {
      "needs_background": "light"
     },
     "output_type": "display_data"
    }
   ],
   "source": [
    "import math\n",
    "\n",
    "def solve_heat_CN_2(m, kappa, L, t_0, t_final, U_0, g_0, g_1):\n",
    "  \n",
    "    delta_x = 1/float(m+1)\n",
    "    \n",
    "    N = 500\n",
    "    t = numpy.linspace(t_0, t_final, N)\n",
    "    delta_t = t[1] - t[0]\n",
    "\n",
    "  \n",
    "    # Solution array\n",
    "    U = numpy.empty((len(t),m+2))\n",
    "\n",
    "  \n",
    "    # Initial and boundary conditions  \n",
    "    U[0,:] = U_0\n",
    "    U[0,0] = g_0(0)\n",
    "    \n",
    "    \n",
    "    # Build solving matrix\n",
    "    r = numpy.ones(m+2) * (kappa*delta_t) / (2.0 * delta_x**2)\n",
    "    A = sparse.spdiags([-r, 1.0 + 2.0 * r, -r], [-1, 0, 1], m, m).tocsr()\n",
    "\n",
    "    # Build matrix for the right hand side computation\n",
    "    B = sparse.spdiags([r, 1.0 - 2.0 * r, r], [-1, 0, 1],  m, m).tocsr()\n",
    "\n",
    "    # Time stepping loop \n",
    "    for n in range(len(t)-1):\n",
    "        # Construct right-hand side\n",
    "        b = B.dot(U[n,:][1:-1])\n",
    "        b[0] += kappa*delta_t / (2.0 * delta_x**2) * (g_0(t[n]) + g_0(t[n+1]))\n",
    "        b[-1] += kappa*delta_t / (2.0 * delta_x**2) * (g_1(t[n]) + g_1(t[n+1]))\n",
    "        \n",
    "        # Solve system\n",
    "        U[n+1,:][1:-1] = linalg.spsolve(A,b)\n",
    "        U[n+1, 0] = g_0(t[n+1]) \n",
    "        U[n+1, -1] = g_1(t[n+1]) \n",
    "    \n",
    "    return U[n+1,:]\n",
    "\n",
    "#Plot\n",
    "\n",
    "beta = 150.0\n",
    "kappa = 0.02\n",
    "L = 1.0\n",
    "u_true = lambda x, t: numpy.exp(-(x - 0.4)**2. / (4.0 * kappa * t + 1.0 / beta)) \\\n",
    "                                            / numpy.sqrt(4.0 * kappa * beta * t + 1.0)\n",
    "g_0 = lambda t: u_true(0.0, t)\n",
    "g_1 = lambda t: u_true(L, t)\n",
    "\n",
    "# Discretization and output times\n",
    "m = 20\n",
    "x = numpy.linspace(0.0, L, m + 2)\n",
    "x_fine = numpy.linspace(0.0, L, 100)\n",
    "delta_x = L / float(m + 1)\n",
    "output_times = (0.0, 0.5, 1.0, 1.5, 2.0)\n",
    "\n",
    "# Solve\n",
    "U_CN = numpy.empty((len(output_times), m + 2))\n",
    "U_CN[0, :] = u_true(x, 0.0)\n",
    "for (n, t) in enumerate(output_times[1:]):\n",
    "    U_CN[n + 1, :] = solve_heat_CN_2(m, kappa, L, output_times[n], t, U_CN[n, :], g_0, g_1)\n",
    "\n",
    "\n",
    "# Plot some of the results\n",
    "colors = ['k', 'r', 'b', 'g', 'c']\n",
    "fig = plt.figure()\n",
    "axes_CN = fig.add_subplot(1, 1, 1)\n",
    "for (n, t) in enumerate(output_times):\n",
    "    axes_CN.plot(x_fine, u_true(x_fine, t), 'k-')\n",
    "    axes_CN.plot(x, U_CN[n, :], \"o%s\" % colors[n], label='t=%s' % numpy.round(t, 4))\n",
    "    axes_CN.set_xlabel(\"x\")\n",
    "    axes_CN.set_ylabel(\"$U_(x,t)$\")\n",
    "    axes_CN.set_title(\"Solution to Heat Equation\")\n",
    "    axes_CN.set_xlim([0, L])\n",
    "    axes_CN.legend()\n",
    "\n",
    "plt.tight_layout()\n",
    "plt.show()"
   ]
  },
  {
   "cell_type": "code",
   "execution_count": 199,
   "metadata": {
    "deletable": false,
    "nbgrader": {
     "cell_type": "code",
     "checksum": "cf86522544a4cc8d2e2ca17ccfde5859",
     "grade": true,
     "grade_id": "cell-1480480097615628",
     "locked": false,
     "points": 5,
     "schema_version": 3,
     "solution": true
    }
   },
   "outputs": [
    {
     "data": {
      "image/png": "[encoded data removed]",
      "text/plain": [
       "<Figure size 432x288 with 1 Axes>"
      ]
     },
     "metadata": {
      "needs_background": "light"
     },
     "output_type": "display_data"
    }
   ],
   "source": [
    "import math\n",
    "\n",
    "def solve_heat_CN_3(m, kappa, L, t_0, t_final, U_0, g_0, g_1):\n",
    "  \n",
    "    delta_x = 1/float(m+1)\n",
    "    \n",
    "    N = 500\n",
    "    t = numpy.linspace(t_0, t_final, N)\n",
    "    delta_t = t[1] - t[0]\n",
    "\n",
    "  \n",
    "    # Solution array\n",
    "    U = numpy.empty((len(t),m+2))\n",
    "\n",
    "  \n",
    "    # Initial and boundary conditions  \n",
    "    U[0,:] = U_0\n",
    "    U[0,0] = g_0(0)\n",
    "    U[0,-1] = g_1(0)\n",
    "    g_2 = lambda t: u_true(delta_x, t)\n",
    "    U[0,1] = g_2(0)\n",
    "    \n",
    "    \n",
    "    # Build solving matrix\n",
    "    r = numpy.ones(m+2) * (kappa*delta_t) / (2.0 * delta_x**2)\n",
    "    A = sparse.spdiags([-r, 1.0 + 2.0 * r, -r], [-1, 0, 1], m, m).tocsr()\n",
    "\n",
    "    # Build matrix for the right hand side computation\n",
    "    B = sparse.spdiags([r, 1.0 - 2.0 * r, r], [-1, 0, 1],  m, m).tocsr()\n",
    "\n",
    "    # Time stepping loop \n",
    "    for n in range(len(t)-1):\n",
    "        # Construct right-hand side\n",
    "        b = B.dot(U[n,:][1:-1])\n",
    "        b[0] += kappa*delta_t / (2.0 * delta_x**2) * (g_0(t[n]) + g_0(t[n+1]))\n",
    "        b[-1] += kappa*delta_t / (2.0 * delta_x**2) * (g_1(t[n]) + g_1(t[n+1]))\n",
    "        b[1] += kappa*delta_t / (2.0 * delta_x**2) * (g_2(t[n]) + g_2(t[n+1]))\n",
    "        \n",
    "        # Solve system\n",
    "        U[n+1,:][1:-1] = linalg.spsolve(A,b)\n",
    "        U[n+1, 0] = g_0(t[n+1]) \n",
    "        U[n+1, -1] = g_1(t[n+1])\n",
    "        U[n+1, 1] = g_2(t[n+1]) \n",
    "    \n",
    "    return U[n+1,:]\n",
    "\n",
    "#Plot\n",
    "\n",
    "beta = 150.0\n",
    "kappa = 0.02\n",
    "L = 1.0\n",
    "u_true = lambda x, t: numpy.exp(-(x - 0.4)**2. / (4.0 * kappa * t + 1.0 / beta)) \\\n",
    "                                            / numpy.sqrt(4.0 * kappa * beta * t + 1.0)\n",
    "g_0 = lambda t: u_true(0.0, t)\n",
    "g_1 = lambda t: u_true(L, t)\n",
    "\n",
    "# Discretization and output times\n",
    "m = 20\n",
    "x = numpy.linspace(0.0, L, m + 2)\n",
    "x_fine = numpy.linspace(0.0, L, 100)\n",
    "delta_x = L / float(m + 1)\n",
    "output_times = (0.0, 0.5, 1.0, 1.5, 2.0)\n",
    "\n",
    "# Solve\n",
    "U_CN = numpy.empty((len(output_times), m + 2))\n",
    "U_CN[0, :] = u_true(x, 0.0)\n",
    "for (n, t) in enumerate(output_times[1:]):\n",
    "    U_CN[n + 1, :] = solve_heat_CN_3(m, kappa, L, output_times[n], t, U_CN[n, :], g_0, g_1)\n",
    "\n",
    "\n",
    "# Plot some of the results\n",
    "colors = ['k', 'r', 'b', 'g', 'c']\n",
    "fig = plt.figure()\n",
    "axes_CN = fig.add_subplot(1, 1, 1)\n",
    "for (n, t) in enumerate(output_times):\n",
    "    axes_CN.plot(x_fine, u_true(x_fine, t), 'k-')\n",
    "    axes_CN.plot(x, U_CN[n, :], \"o%s\" % colors[n], label='t=%s' % numpy.round(t, 4))\n",
    "    axes_CN.set_xlabel(\"x\")\n",
    "    axes_CN.set_ylabel(\"$U_(x,t)$\")\n",
    "    axes_CN.set_title(\"Solution to Heat Equation\")\n",
    "    axes_CN.set_xlim([0, L])\n",
    "    axes_CN.legend()\n",
    "\n",
    "plt.tight_layout()\n",
    "plt.show()"
   ]
  },
  {
   "cell_type": "code",
   "execution_count": 201,
   "metadata": {},
   "outputs": [
    {
     "data": {
      "image/png": "[encoded data removed]",
      "text/plain": [
       "<Figure size 432x288 with 1 Axes>"
      ]
     },
     "metadata": {
      "needs_background": "light"
     },
     "output_type": "display_data"
    }
   ],
   "source": [
    "def solve_heat_BE_2(m, kappa, L, t_0, t_final, U_0, g_0, g_1):\n",
    "    \"\"\"Solve the heat equation using backward Euler and given boundaries\n",
    "    \n",
    "    Function will take the necessary number of time steps to reach t_final\n",
    "    from t_0.  Note that this may mean taking a slightly smaller time step \n",
    "    size to hit t_f exactly.\n",
    "    \n",
    "    :Input:\n",
    "     - *m* (int) Number of points use to discretize the domain.  Note that\n",
    "       the total number of points is *m+1*.\n",
    "     - *kappa* (float) Diffusion coefficient\n",
    "     - *L* (float) Length of half of the domain\n",
    "     - *t_0* (float) Starting time\n",
    "     - *t_final* (float) Time to integrate to\n",
    "     - *U_0* (numpy.ndarray) Initial condition at time t_0, should be m+1\n",
    "     - *g_0* (func) Boundary condition at x=0\n",
    "     - *g_1* (func) Boundary condition at x=L\n",
    "     \n",
    "    :Output:\n",
    "     - (numpy.ndarray) Solution at time t_final.  Note that this vector should m+1\n",
    "    \"\"\"\n",
    "    # YOUR CODE HERE\n",
    "    delta_x = L / float(m+1)\n",
    "    \n",
    "    # generate time mesh\n",
    "    C = 0.5\n",
    "    delta_t = C * delta_x\n",
    "    t = numpy.arange(t_0, t_final, delta_t)\n",
    "    \n",
    "    #Time Step\n",
    "    time_step = math.ceil((t_final - t_0)/delta_t)\n",
    "    t = numpy.linspace(t_0, t_final, time_step)\n",
    "    delta_t = t[1] - t[0]\n",
    "\n",
    "    # Solution array & IC & BC\n",
    "    U = numpy.empty((len(t), m+2))\n",
    "    U[0, :] = U_0\n",
    "    \n",
    "    r = numpy.ones(m) * (kappa*delta_t) / (delta_x**2)\n",
    "    A = sparse.spdiags([-r, 1.0 + 2.0 * r, -r], [-1, 0, 1], m, m).tocsr()\n",
    "    \n",
    "    g_2 = lambda t: u_true(delta_x, t)\n",
    "\n",
    "    # Time stepping loop\n",
    "    for n in range(len(t) - 1):\n",
    "    \n",
    "        b = U[n, :][1:-1]\n",
    "        \n",
    "        #BC\n",
    "        bc1 = g_0(t[n+1])\n",
    "        bc2 = g_1(t[n+1])\n",
    "        bc3 = g_2(t[n+1])\n",
    "        \n",
    "        # correct U_n with BCs at ends\n",
    "        b[0] += (kappa*delta_t) / (delta_x**2) * bc1\n",
    "        b[-1] += (kappa*delta_t) / (delta_x**2) * bc2\n",
    "        b[1 ] += (kappa*delta_t) / (delta_x**2) * bc3\n",
    "        \n",
    "        # solve\n",
    "        U[n+1, :][1:-1] = linalg.spsolve(A, b)\n",
    "        U[n+1, 0] = bc1 \n",
    "        U[n+1, -1] = bc2 \n",
    "        U[n+1, 1] = bc3\n",
    "    \n",
    "    return U[n+1, :]\n",
    "\n",
    "beta = 150.0\n",
    "kappa = 0.02\n",
    "L = 1.0\n",
    "u_true = lambda x, t: numpy.exp(-(x - 0.4)**2. / (4.0 * kappa * t + 1.0 / beta)) \\\n",
    "                                            / numpy.sqrt(4.0 * kappa * beta * t + 1.0)\n",
    "g_0 = lambda t: u_true(0.0, t)\n",
    "g_1 = lambda t: u_true(L/2, t)\n",
    "\n",
    "# Discretization and output times\n",
    "m = 80\n",
    "x = numpy.linspace(0.0, L, m + 2)\n",
    "x_fine = numpy.linspace(0.0, L, 100)\n",
    "delta_x = L / float(m + 1)\n",
    "output_times = (0.0, 0.5, 1.0, 1.5, 2.0)\n",
    "\n",
    "# Solve\n",
    "U_BE = numpy.empty((len(output_times), m + 2))\n",
    "U_BE[0, :] = u_true(x, 0.0)\n",
    "for (n, t) in enumerate(output_times[1:]):\n",
    "    U_BE[n + 1, :] = solve_heat_BE_2(m, kappa, L, output_times[n], t, U_BE[n, :], g_0, g_1)\n",
    "\n",
    "# Plot some of the results\n",
    "colors = ['k', 'r', 'b', 'g', 'c']\n",
    "fig = plt.figure()\n",
    "axes_BE = fig.add_subplot(1, 1, 1)\n",
    "for (n, t) in enumerate(output_times):\n",
    "    axes_BE.plot(x_fine, u_true(x_fine, t), 'k-')\n",
    "    axes_BE.plot(x, U_BE[n, :], \"o%s\" % colors[n], label='t=%s' % numpy.round(t, 4))\n",
    "    axes_BE.set_xlabel(\"x\")\n",
    "    axes_BE.set_ylabel(\"$U_(x,t)$\")\n",
    "    axes_BE.set_title(\"Solution to Heat Equation\")\n",
    "    axes_BE.set_xlim([0, L])\n",
    "    axes_BE.legend()\n",
    "    \n",
    "plt.tight_layout()\n",
    "plt.show()"
   ]
  },
  {
   "cell_type": "code",
   "execution_count": null,
   "metadata": {},
   "outputs": [],
   "source": [
    "def solve_heat_BE_3(m, kappa, L, t_0, t_final, U_0, g_0, g_1):\n",
    "    \"\"\"Solve the heat equation using backward Euler and given boundaries\n",
    "    \n",
    "    Function will take the necessary number of time steps to reach t_final\n",
    "    from t_0.  Note that this may mean taking a slightly smaller time step \n",
    "    size to hit t_f exactly.\n",
    "    \n",
    "    :Input:\n",
    "     - *m* (int) Number of points use to discretize the domain.  Note that\n",
    "       the total number of points is *m+1*.\n",
    "     - *kappa* (float) Diffusion coefficient\n",
    "     - *L* (float) Length of half of the domain\n",
    "     - *t_0* (float) Starting time\n",
    "     - *t_final* (float) Time to integrate to\n",
    "     - *U_0* (numpy.ndarray) Initial condition at time t_0, should be m+1\n",
    "     - *g_0* (func) Boundary condition at x=0\n",
    "     - *g_1* (func) Boundary condition at x=L\n",
    "     \n",
    "    :Output:\n",
    "     - (numpy.ndarray) Solution at time t_final.  Note that this vector should m+1\n",
    "    \"\"\"\n",
    "    # YOUR CODE HERE\n",
    "    delta_x = L / float(m+1)\n",
    "    \n",
    "    # generate time mesh\n",
    "    C = 0.5\n",
    "    delta_t = C * delta_x\n",
    "    t = numpy.arange(t_0, t_final, delta_t)\n",
    "    \n",
    "    #Time Step\n",
    "    time_step = math.ceil((t_final - t_0)/delta_t)\n",
    "    t = numpy.linspace(t_0, t_final, time_step)\n",
    "    delta_t = t[1] - t[0]\n",
    "\n",
    "    # Solution array & IC & BC\n",
    "    U = numpy.empty((len(t), m+2))\n",
    "    U[0, :] = U_0\n",
    "    \n",
    "    r = numpy.ones(m) * (kappa*delta_t) / (delta_x**2)\n",
    "    A = sparse.spdiags([-r, 1.0 + 2.0 * r, -r], [-1, 0, 1], m, m).tocsr()\n",
    "\n",
    "    # Time stepping loop\n",
    "    for n in range(len(t) - 1):\n",
    "    \n",
    "        b = U[n, :][1:-1]\n",
    "        \n",
    "        #BC\n",
    "        bc1 = g_0(t[n+1])\n",
    "        bc2 = g_1(t[n+1])\n",
    "        \n",
    "        # correct U_n with BCs at ends\n",
    "        b[0] += (kappa*delta_t) / (delta_x**2) * bc1\n",
    "        b[-1] += (kappa*delta_t) / (delta_x**2) * bc2\n",
    "        \n",
    "        # solve\n",
    "        U[n+1, :][1:-1] = linalg.spsolve(A, b)\n",
    "        U[n+1, 0] = bc1 \n",
    "        U[n+1, -1] = bc2 \n",
    "    \n",
    "    return U[n+1, :]\n",
    "\n",
    "beta = 150.0\n",
    "kappa = 0.02\n",
    "L = 1.0\n",
    "u_true = lambda x, t: numpy.exp(-(x - 0.4)**2. / (4.0 * kappa * t + 1.0 / beta)) \\\n",
    "                                            / numpy.sqrt(4.0 * kappa * beta * t + 1.0)\n",
    "g_0 = lambda t: u_true(0.0, t)\n",
    "g_1 = lambda t: u_true(L/2, t)\n",
    "\n",
    "# Discretization and output times\n",
    "m = 80\n",
    "x = numpy.linspace(0.0, L, m + 2)\n",
    "x_fine = numpy.linspace(0.0, L, 100)\n",
    "delta_x = L / float(m + 1)\n",
    "output_times = (0.0, 0.5, 1.0, 1.5, 2.0)\n",
    "\n",
    "# Solve\n",
    "U_BE = numpy.empty((len(output_times), m + 2))\n",
    "U_BE[0, :] = u_true(x, 0.0)\n",
    "for (n, t) in enumerate(output_times[1:]):\n",
    "    U_BE[n + 1, :] = solve_heat_BE_3(m, kappa, L, output_times[n], t, U_BE[n, :], g_0, g_1)\n",
    "\n",
    "# Plot some of the results\n",
    "colors = ['k', 'r', 'b', 'g', 'c']\n",
    "fig = plt.figure()\n",
    "axes_BE = fig.add_subplot(1, 1, 1)\n",
    "for (n, t) in enumerate(output_times):\n",
    "    axes_BE.plot(x_fine, u_true(x_fine, t), 'k-')\n",
    "    axes_BE.plot(x, U_BE[n, :], \"o%s\" % colors[n], label='t=%s' % numpy.round(t, 4))\n",
    "    axes_BE.set_xlabel(\"x\")\n",
    "    axes_BE.set_ylabel(\"$U_(x,t)$\")\n",
    "    axes_BE.set_title(\"Solution to Heat Equation\")\n",
    "    axes_BE.set_xlim([0, L])\n",
    "    axes_BE.legend()\n",
    "    \n",
    "plt.tight_layout()\n",
    "plt.show()"
   ]
  }
 ],
 "metadata": {
  "kernelspec": {
   "display_name": "Python 3",
   "language": "python",
   "name": "python3"
  },
  "language_info": {
   "codemirror_mode": {
    "name": "ipython",
    "version": 3
   },
   "file_extension": ".py",
   "mimetype": "text/x-python",
   "name": "python",
   "nbconvert_exporter": "python",
   "pygments_lexer": "ipython3",
   "version": "3.8.5"
  },
  "latex_envs": {
   "bibliofile": "biblio.bib",
   "cite_by": "apalike",
   "current_citInitial": 1,
   "eqLabelWithNumbers": true,
   "eqNumInitial": 0
  }
 },
 "nbformat": 4,
 "nbformat_minor": 4
}
